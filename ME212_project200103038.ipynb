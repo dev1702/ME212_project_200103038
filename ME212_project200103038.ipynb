{
 "cells": [
  {
   "cell_type": "code",
   "execution_count": 1,
   "metadata": {},
   "outputs": [],
   "source": [
    "def mohcircle():\n",
    "    import numpy as np\n",
    "    import matplotlib.pyplot as plt\n",
    "    import math\n",
    "\n",
    "    σx = float(input('σx = '))\n",
    "    σy = float(input('σy = '))\n",
    "    τxy = float(input('τxy = '))\n",
    "    u = input('stress unit = ')\n",
    "    w = float(input(\"Angle( in degrees) of plane's axis from x axis(+ve counter clockwise), θ = \"))\n",
    "    θ = math.radians(w)\n",
    "    R = np.sqrt(0.25 * (σx - σy) ** 2 + (τxy) ** 2)\n",
    "    σavg = (σx + σy) / 2\n",
    "    ψ = np.linspace(0, 2 * np.pi, 360)\n",
    "    x = σavg + R * np.cos(ψ)\n",
    "    y = R * (np.sin(ψ))\n",
    "    φ1 = math.degrees(0.5 * math.atan(2 * τxy / (σx - σy)))\n",
    "    φ2 = φ1 + 90\n",
    "    σθ1 = σavg + R * np.cos(2 * np.radians(φ1) + 2 * θ)\n",
    "    σθ2 = σavg + R * np.cos(2 * np.radians(φ1) + 2 * θ + np.pi)\n",
    "    τθ = R * np.sin(2 * np.radians(φ1) + 2 * θ)\n",
    "    print(f'''\n",
    "       Radius, R = √(0.25*(σx-σy)^2 + τxy^2) \n",
    "               = √(0.25*({σx}-{σy})^2 + {τxy}^2)  ={R} {u}\n",
    "\n",
    "       Average Stress,(acts at the Center of Mohr's Circle) \n",
    "               = σavg = (σx + σy)/2 = ({σx} + {σy})/2 = {σavg} {u}\n",
    "\n",
    "       Principal Stresses\n",
    "       σ1 = σavg + R = {σavg} + {R} = {σavg + R} {u}\n",
    "       σ2 = σavg - R = {σavg} - {R} = {σavg - R} {u}\n",
    "       Angle φ1 it makes with x-axis, \n",
    "       φ1 = 0.5(atan(2*τxy/(σx - σy)) = 0.5 * atan(2*{τxy}/({σx} - {σy})) = {φ1} degrees\n",
    "       Angle σ2 makes with x-axis = φ2 = φ1 + 90 = {φ2} degrees\n",
    "\n",
    "       Maximum Shear Stress = τmax = R = {R} {u}\n",
    "       It occurs at, α = φ1 + 45 = {φ1 + 45} degrees\n",
    "\n",
    "       Stresses at a plane with axis at θ anticlockwise from x axis, \n",
    "        σθ1 = σavg + R* Cos(2φ1 + 2θ) = {σavg} + {R}* Cos({2 * φ1 + 2 * θ})\n",
    "           = {σθ1}, {u}\n",
    "        σθ2 = σavg + R* Cos(2φ1 + 2θ + pi) = \n",
    "            {σθ2} {u}\n",
    "        τθ = R*Sin(2*φ1 + 2*θ)  = {R * np.sin(2 * np.radians(φ1) + 2 * θ)} {u}\n",
    "\n",
    "       ''')\n",
    "\n",
    "    plt.plot(x, y)\n",
    "    plt.plot([σavg - R - 10, σavg + R + 10], [0, 0], linestyle='--', color='black')\n",
    "    plt.plot([σavg, σavg], [-R - 10, R + 10], linestyle='--', color='black')\n",
    "    plt.plot([σx, σy], [τxy, -τxy], [σx, σx], [0, τxy], [σy, σy], [0, -τxy], linestyle='-', color='brown')\n",
    "    plt.plot([σθ1, σθ2], [τθ, -τθ], [σθ1, σθ1], [0, τθ], [σθ2, σθ2], [0, -τθ], linestyle='--', color='red')\n",
    "    plt.xlabel('σ (MPa)')\n",
    "    plt.ylabel('τ (MPa)')\n",
    "    plt.title(\"Mohr's Circle\")\n",
    "    plt.show()"
   ]
  },
  {
   "cell_type": "code",
   "execution_count": 2,
   "metadata": {},
   "outputs": [
    {
     "name": "stdout",
     "output_type": "stream",
     "text": [
      "σx = 100\n",
      "σy = 2\n",
      "τxy = 5\n",
      "stress unit = Mpa\n",
      "Angle( in degrees) of plane's axis from x axis(+ve counter clockwise), θ = 19\n",
      "\n",
      "       Radius, R = √(0.25*(σx-σy)^2 + τxy^2) \n",
      "               = √(0.25*(100.0-2.0)^2 + 5.0^2)  =49.25444142409901 Mpa\n",
      "\n",
      "       Average Stress,(acts at the Center of Mohr's Circle) \n",
      "               = σavg = (σx + σy)/2 = (100.0 + 2.0)/2 = 51.0 Mpa\n",
      "\n",
      "       Principal Stresses\n",
      "       σ1 = σavg + R = 51.0 + 49.25444142409901 = 100.25444142409901 Mpa\n",
      "       σ2 = σavg - R = 51.0 - 49.25444142409901 = 1.7455585759009935 Mpa\n",
      "       Angle φ1 it makes with x-axis, \n",
      "       φ1 = 0.5(atan(2*τxy/(σx - σy)) = 0.5 * atan(2*5.0/(100.0 - 2.0)) = 2.9131710147778875 degrees\n",
      "       Angle σ2 makes with x-axis = φ2 = φ1 + 90 = 92.91317101477789 degrees\n",
      "\n",
      "       Maximum Shear Stress = τmax = R = 49.25444142409901 Mpa\n",
      "       It occurs at, α = φ1 + 45 = 47.91317101477789 degrees\n",
      "\n",
      "       Stresses at a plane with axis at θ anticlockwise from x axis, \n",
      "        σθ1 = σavg + R* Cos(2φ1 + 2θ) = 51.0 + 49.25444142409901* Cos(6.48956714531362)\n",
      "           = 86.53421955010108, Mpa\n",
      "        σθ2 = σavg + R* Cos(2φ1 + 2θ + pi) = \n",
      "            15.465780449898915 Mpa\n",
      "        τθ = R*Sin(2*φ1 + 2*θ)  = 34.107466058990866 Mpa\n",
      "\n",
      "       \n"
     ]
    },
    {
     "data": {
      "image/png": "[encoded data removed]",
      "text/plain": [
       "<Figure size 432x288 with 1 Axes>"
      ]
     },
     "metadata": {
      "needs_background": "light"
     },
     "output_type": "display_data"
    },
    {
     "name": "stdout",
     "output_type": "stream",
     "text": [
      "Exit? y/n y\n"
     ]
    }
   ],
   "source": [
    "mohcircle()\n",
    "v = input('Exit? y/n ')\n",
    "while v == \"n\":\n",
    "    mohcircle()\n",
    "    v = input('Exit? y/n ')\n",
    "exit()"
   ]
  },
  {
   "cell_type": "code",
   "execution_count": null,
   "metadata": {},
   "outputs": [],
   "source": []
  }
 ],
 "metadata": {
  "kernelspec": {
   "display_name": "Python 3",
   "language": "python",
   "name": "python3"
  },
  "language_info": {
   "codemirror_mode": {
    "name": "ipython",
    "version": 3
   },
   "file_extension": ".py",
   "mimetype": "text/x-python",
   "name": "python",
   "nbconvert_exporter": "python",
   "pygments_lexer": "ipython3",
   "version": "3.8.5"
  }
 },
 "nbformat": 4,
 "nbformat_minor": 4
}
